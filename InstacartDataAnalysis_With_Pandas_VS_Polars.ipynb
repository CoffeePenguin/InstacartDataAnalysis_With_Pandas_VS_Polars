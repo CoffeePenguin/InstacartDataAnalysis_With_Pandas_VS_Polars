{
  "nbformat": 4,
  "nbformat_minor": 0,
  "metadata": {
    "colab": {
      "provenance": []
    },
    "kernelspec": {
      "name": "python3",
      "display_name": "Python 3"
    },
    "language_info": {
      "name": "python"
    }
  },
  "cells": [
    {
      "cell_type": "markdown",
      "source": [
        "# Instacart Market Basket Analysis データセットを用いた Pandas と Polars の比較\n",
        "\n",
        "\n",
        "このノートブックでは、Instacart Market Basket Analysis データセットを用いて、Pandas と Polars (Eager および Lazy モード) のパフォーマンス比較を行います。特に、以下の観点から比較を行います。\n",
        "\n",
        "- 処理時間: 各ライブラリがデータ処理タスクを完了するのにかかる時間。\n",
        "- メモリ使用量: 各ライブラリがデータ処理タスクを実行する際に使用するメモリ量。"
      ],
      "metadata": {
        "id": "_uLSu8OLhslZ"
      }
    },
    {
      "cell_type": "markdown",
      "source": [
        "## ライブラリのインストールとインポート\n"
      ],
      "metadata": {
        "id": "CaMVLukVjfrx"
      }
    },
    {
      "cell_type": "code",
      "source": [
        "!pip install japanize-matplotlib\n",
        "!pip install kaggle\n",
        "!pip install polars"
      ],
      "metadata": {
        "id": "4O9v51ikybL0"
      },
      "execution_count": null,
      "outputs": []
    },
    {
      "cell_type": "code",
      "execution_count": null,
      "metadata": {
        "id": "zft8mei_d571"
      },
      "outputs": [],
      "source": [
        "import polars as pl\n",
        "import pandas as pd\n",
        "import time\n",
        "import os\n",
        "import json\n",
        "from google.colab import files\n",
        "import matplotlib.pyplot as plt\n",
        "import numpy as np\n",
        "import japanize_matplotlib\n",
        "import zipfile"
      ]
    },
    {
      "cell_type": "markdown",
      "source": [
        "## データセットのダウンロードと準備"
      ],
      "metadata": {
        "id": "ov_63Ln7joZf"
      }
    },
    {
      "cell_type": "markdown",
      "source": [
        "### Kaggle API を使用したデータセットのダウンロード"
      ],
      "metadata": {
        "id": "ayg6O4-qjsYN"
      }
    },
    {
      "cell_type": "code",
      "source": [
        "data_dir = '/content/'\n",
        "\n",
        "# kaggle.jsonのアップロード\n",
        "uploaded = files.upload()\n",
        "\n",
        "for fn in uploaded.keys():\n",
        "  print('User uploaded file \"{name}\" with length {length} bytes'.format(\n",
        "      name=fn, length=len(uploaded[fn])))\n",
        "\n",
        "with open(fn, 'r') as f:\n",
        "  kaggle_data = json.load(f)\n",
        "  os.environ['KAGGLE_USERNAME'] = kaggle_data['username']\n",
        "  os.environ['KAGGLE_KEY'] = kaggle_data['key']\n",
        "\n",
        "print(\"Kaggle Username:\", os.environ.get('KAGGLE_USERNAME'))\n",
        "print(\"Kaggle Key:\", os.environ.get('KAGGLE_KEY') != None)\n",
        "\n",
        "import kaggle\n",
        "from kaggle.api.kaggle_api_extended import KaggleApi\n",
        "# Kaggle APIの認証\n",
        "api = KaggleApi()\n",
        "api.authenticate()\n"
      ],
      "metadata": {
        "id": "15OTYyBme8D4"
      },
      "execution_count": null,
      "outputs": []
    },
    {
      "cell_type": "markdown",
      "source": [
        "### データセットのダウンロード&解凍 (Instacart Market Basket Analysis)"
      ],
      "metadata": {
        "id": "t_vfDBzer998"
      }
    },
    {
      "cell_type": "code",
      "source": [
        "api.competition_download_files('instacart-market-basket-analysis', path=data_dir)\n",
        "\n",
        "with zipfile.ZipFile(os.path.join(data_dir, 'instacart-market-basket-analysis.zip'), 'r') as zip_ref:\n",
        "  zip_ref.extractall(data_dir)\n",
        "\n",
        "\n",
        "os.remove(os.path.join(data_dir, 'instacart-market-basket-analysis.zip'))\n",
        "\n",
        "for file in os.listdir(data_dir):\n",
        "    if file.endswith('.zip'):\n",
        "        with zipfile.ZipFile(os.path.join(data_dir, file), 'r') as zip_ref:\n",
        "            zip_ref.extractall(data_dir)\n",
        "\n",
        "for file in os.listdir(data_dir):\n",
        "    if file.endswith('.zip'):\n",
        "        os.remove(os.path.join(data_dir, file))"
      ],
      "metadata": {
        "id": "ZTLKPG3wr7oP"
      },
      "execution_count": null,
      "outputs": []
    },
    {
      "cell_type": "markdown",
      "source": [
        "## データ処理と分析"
      ],
      "metadata": {
        "id": "KgakQNFekF0f"
      }
    },
    {
      "cell_type": "markdown",
      "source": [
        "### *商品データと部門データの処理*\n",
        "\n",
        "商品のデータセット (products) と部門のデータセット (departments) を使用して、各部門に属する商品の数を集計する。"
      ],
      "metadata": {
        "id": "6Cq7-bcykLfq"
      }
    },
    {
      "cell_type": "code",
      "source": [
        "# Pandas\n",
        "def process_with_pandas(products_filepath, departments_filepath):\n",
        "    products_df = pd.read_csv(products_filepath)\n",
        "    departments_df = pd.read_csv(departments_filepath)\n",
        "    result_pandas = products_df['department_id'].value_counts().reset_index().merge(departments_df, on='department_id')[['department', 'count']]\n",
        "    result_pandas = result_pandas.sort_values('count', ascending=False)\n",
        "    return result_pandas\n",
        "\n",
        "# Polars (Eager)\n",
        "def process_with_polars_eager(products_filepath, departments_filepath):\n",
        "    products_pl_df = pl.read_csv(products_filepath)\n",
        "    departments_pl_df = pl.read_csv(departments_filepath)\n",
        "    result_polars_eager = products_pl_df.group_by(\"department_id\").agg(\n",
        "        pl.count().alias(\"count\")\n",
        "    ).join(departments_pl_df, on=\"department_id\").select([\"department\", \"count\"])\n",
        "    result_polars_eager = result_polars_eager.sort(\"count\", descending=True)\n",
        "    return result_polars_eager\n",
        "\n",
        "# Polars (Lazy)\n",
        "def process_with_polars_lazy(products_filepath, departments_filepath):\n",
        "    products_pl_df = pl.scan_csv(products_filepath)\n",
        "    departments_pl_df = pl.scan_csv(departments_filepath)\n",
        "    result_polars_lazy = products_pl_df.group_by(\"department_id\").agg(\n",
        "        pl.count().alias(\"count\")\n",
        "    ).join(departments_pl_df, on=\"department_id\").select([\"department\", \"count\"]).sort(\"count\", descending=True).collect()\n",
        "    return result_polars_lazy"
      ],
      "metadata": {
        "id": "UIqigc9ofI1I"
      },
      "execution_count": null,
      "outputs": []
    },
    {
      "cell_type": "markdown",
      "source": [
        "### 顧客行動分析\n",
        "\n",
        "顧客の注文データ (orders) を分析し、顧客の行動に関する(と思われる)指標の算出。\n",
        "\n",
        "- 平均注文回数 (avg_num_orders): 顧客一人当たりの平均注文回数。\n",
        "- 平均注文間隔 (avg_time_between_orders): 顧客が注文してから次の注文をするまでの平均日数。\n",
        "- 顧客ごとの平均注文間隔 (user_avg_interval_df): 各顧客の注文間隔の平均値を格納したDF"
      ],
      "metadata": {
        "id": "mRxKnltIkUS3"
      }
    },
    {
      "cell_type": "code",
      "source": [
        "# Pandas\n",
        "def analyze_customer_behavior_pandas(orders_filepath):\n",
        "    orders_df = pd.read_csv(orders_filepath)\n",
        "    avg_num_orders = orders_df.groupby('user_id')['order_id'].nunique().mean()\n",
        "    orders_without_first_time_df = orders_df[orders_df['days_since_prior_order'].notna()]\n",
        "    avg_time_between_orders = orders_without_first_time_df.groupby('user_id')['days_since_prior_order'].mean().mean()\n",
        "\n",
        "    user_avg_interval_df = orders_without_first_time_df.groupby('user_id')['days_since_prior_order'].mean().reset_index()\n",
        "    user_avg_interval_df.columns = ['user_id', 'avg_days_since_prior_order']\n",
        "\n",
        "    return avg_num_orders, avg_time_between_orders, user_avg_interval_df\n",
        "\n",
        "# Polars (Eager)\n",
        "def analyze_customer_behavior_polars_eager(orders_filepath):\n",
        "    orders_df = pl.read_csv(orders_filepath)\n",
        "\n",
        "    avg_num_orders = orders_df.group_by('user_id').agg(pl.col('order_id').n_unique()).select(pl.col('order_id').mean()).item()\n",
        "\n",
        "    orders_without_first_time_df = orders_df.filter(pl.col(\"days_since_prior_order\").is_not_null())\n",
        "    avg_time_between_orders = orders_without_first_time_df.group_by('user_id').agg(pl.col('days_since_prior_order').mean()).select(pl.col('days_since_prior_order').mean()).item()\n",
        "    user_avg_interval_df = orders_without_first_time_df.group_by('user_id').agg(pl.col('days_since_prior_order').mean())\n",
        "\n",
        "    return avg_num_orders, avg_time_between_orders, user_avg_interval_df\n",
        "\n",
        "# Polars (Lazy)\n",
        "def analyze_customer_behavior_polars_lazy(orders_filepath):\n",
        "    orders_df = pl.scan_csv(orders_filepath)\n",
        "    avg_num_orders = orders_df.group_by('user_id').agg(pl.col('order_id').n_unique()).select(pl.col('order_id').mean()).collect().item()\n",
        "\n",
        "    orders_without_first_time_df = orders_df.filter(pl.col(\"days_since_prior_order\").is_not_null())\n",
        "    avg_time_between_orders = orders_without_first_time_df.group_by('user_id').agg(pl.col('days_since_prior_order').mean()).select(pl.col('days_since_prior_order').mean()).collect().item()\n",
        "    user_avg_interval_df = orders_without_first_time_df.group_by('user_id').agg(pl.col('days_since_prior_order').mean()).collect()\n",
        "\n",
        "    return avg_num_orders, avg_time_between_orders, user_avg_interval_df\n"
      ],
      "metadata": {
        "id": "3X6o-kktkTbt"
      },
      "execution_count": null,
      "outputs": []
    },
    {
      "cell_type": "markdown",
      "source": [
        "## ベンチマークの実行"
      ],
      "metadata": {
        "id": "dMNzz2kukbKr"
      }
    },
    {
      "cell_type": "code",
      "source": [
        "pandas_times = []\n",
        "polars_eager_times = []\n",
        "polars_lazy_times = []\n",
        "\n",
        "pandas_customer_times = []\n",
        "polars_eager_customer_times = []\n",
        "polars_lazy_customer_times = []\n",
        "\n",
        "n_trials = 10\n",
        "for _ in range(n_trials):\n",
        "    # 商品データと部門データの処理\n",
        "    # Pandas\n",
        "    start_time_pandas = time.time()\n",
        "    process_with_pandas(\"/content/products.csv\", \"/content/departments.csv\")\n",
        "    end_time_pandas = time.time()\n",
        "    pandas_times.append(end_time_pandas - start_time_pandas)\n",
        "\n",
        "    # Polars (Eager)\n",
        "    start_time_polars_eager = time.time()\n",
        "    process_with_polars_eager(\"/content/products.csv\", \"/content/departments.csv\")\n",
        "    end_time_polars_eager = time.time()\n",
        "    polars_eager_times.append(end_time_polars_eager - start_time_polars_eager)\n",
        "\n",
        "    # Polars (Lazy)\n",
        "    start_time_polars_lazy = time.time()\n",
        "    process_with_polars_lazy(\"/content/products.csv\", \"/content/departments.csv\")\n",
        "    end_time_polars_lazy = time.time()\n",
        "    polars_lazy_times.append(end_time_polars_lazy - start_time_polars_lazy)\n",
        "\n",
        "    # 顧客行動分析\n",
        "    # Pandas\n",
        "    start_time_pandas_customer = time.time()\n",
        "    avg_num_orders_pandas, avg_time_between_orders_pandas, user_avg_interval_df_pandas = analyze_customer_behavior_pandas(\"/content/orders.csv\")\n",
        "    end_time_pandas_customer = time.time()\n",
        "    pandas_customer_times.append(end_time_pandas_customer - start_time_pandas_customer)\n",
        "\n",
        "    # Polars (Eager)\n",
        "    start_time_polars_eager_customer = time.time()\n",
        "    avg_num_orders_polars_eager, avg_time_between_orders_polars_eager, user_avg_interval_df_polars_eager = analyze_customer_behavior_polars_eager(\"/content/orders.csv\")\n",
        "    end_time_polars_eager_customer = time.time()\n",
        "    polars_eager_customer_times.append(end_time_polars_eager_customer - start_time_polars_eager_customer)\n",
        "\n",
        "    # Polars (Lazy)\n",
        "    start_time_polars_lazy_customer = time.time()\n",
        "    avg_num_orders_polars_lazy, avg_time_between_orders_polars_lazy, user_avg_interval_df_polars_lazy = analyze_customer_behavior_polars_lazy(\"/content/orders.csv\")\n",
        "    end_time_polars_lazy_customer = time.time()\n",
        "    polars_lazy_customer_times.append(end_time_polars_lazy_customer - start_time_polars_lazy_customer)\n",
        "\n",
        "# 平均と標準偏差の算出\n",
        "pandas_mean = np.mean(pandas_times)\n",
        "pandas_std = np.std(pandas_times)\n",
        "polars_eager_mean = np.mean(polars_eager_times)\n",
        "polars_eager_std = np.std(polars_eager_times)\n",
        "polars_lazy_mean = np.mean(polars_lazy_times)\n",
        "polars_lazy_std = np.std(polars_lazy_times)\n",
        "\n",
        "pandas_customer_mean = np.mean(pandas_customer_times)\n",
        "pandas_customer_std = np.std(pandas_customer_times)\n",
        "polars_eager_customer_mean = np.mean(polars_eager_customer_times)\n",
        "polars_eager_customer_std = np.std(polars_eager_customer_times)\n",
        "polars_lazy_customer_mean = np.mean(polars_lazy_customer_times)\n",
        "polars_lazy_customer_std = np.std(polars_lazy_customer_times)"
      ],
      "metadata": {
        "colab": {
          "base_uri": "https://localhost:8080/"
        },
        "id": "-gLc_DPcfRKI",
        "outputId": "a3460558-87cf-44cb-b142-4a3cec75c380"
      },
      "execution_count": null,
      "outputs": [
        {
          "output_type": "stream",
          "name": "stderr",
          "text": [
            "<ipython-input-22-b8458fde83da>:14: DeprecationWarning: `pl.count()` is deprecated. Please use `pl.len()` instead.\n",
            "  pl.count().alias(\"count\")\n",
            "<ipython-input-22-b8458fde83da>:24: DeprecationWarning: `pl.count()` is deprecated. Please use `pl.len()` instead.\n",
            "  pl.count().alias(\"count\")\n",
            "<ipython-input-22-b8458fde83da>:14: DeprecationWarning: `pl.count()` is deprecated. Please use `pl.len()` instead.\n",
            "  pl.count().alias(\"count\")\n",
            "<ipython-input-22-b8458fde83da>:24: DeprecationWarning: `pl.count()` is deprecated. Please use `pl.len()` instead.\n",
            "  pl.count().alias(\"count\")\n",
            "<ipython-input-22-b8458fde83da>:14: DeprecationWarning: `pl.count()` is deprecated. Please use `pl.len()` instead.\n",
            "  pl.count().alias(\"count\")\n",
            "<ipython-input-22-b8458fde83da>:24: DeprecationWarning: `pl.count()` is deprecated. Please use `pl.len()` instead.\n",
            "  pl.count().alias(\"count\")\n",
            "<ipython-input-22-b8458fde83da>:14: DeprecationWarning: `pl.count()` is deprecated. Please use `pl.len()` instead.\n",
            "  pl.count().alias(\"count\")\n",
            "<ipython-input-22-b8458fde83da>:24: DeprecationWarning: `pl.count()` is deprecated. Please use `pl.len()` instead.\n",
            "  pl.count().alias(\"count\")\n",
            "<ipython-input-22-b8458fde83da>:14: DeprecationWarning: `pl.count()` is deprecated. Please use `pl.len()` instead.\n",
            "  pl.count().alias(\"count\")\n",
            "<ipython-input-22-b8458fde83da>:24: DeprecationWarning: `pl.count()` is deprecated. Please use `pl.len()` instead.\n",
            "  pl.count().alias(\"count\")\n",
            "<ipython-input-22-b8458fde83da>:14: DeprecationWarning: `pl.count()` is deprecated. Please use `pl.len()` instead.\n",
            "  pl.count().alias(\"count\")\n",
            "<ipython-input-22-b8458fde83da>:24: DeprecationWarning: `pl.count()` is deprecated. Please use `pl.len()` instead.\n",
            "  pl.count().alias(\"count\")\n",
            "<ipython-input-22-b8458fde83da>:14: DeprecationWarning: `pl.count()` is deprecated. Please use `pl.len()` instead.\n",
            "  pl.count().alias(\"count\")\n",
            "<ipython-input-22-b8458fde83da>:24: DeprecationWarning: `pl.count()` is deprecated. Please use `pl.len()` instead.\n",
            "  pl.count().alias(\"count\")\n",
            "<ipython-input-22-b8458fde83da>:14: DeprecationWarning: `pl.count()` is deprecated. Please use `pl.len()` instead.\n",
            "  pl.count().alias(\"count\")\n",
            "<ipython-input-22-b8458fde83da>:24: DeprecationWarning: `pl.count()` is deprecated. Please use `pl.len()` instead.\n",
            "  pl.count().alias(\"count\")\n",
            "<ipython-input-22-b8458fde83da>:14: DeprecationWarning: `pl.count()` is deprecated. Please use `pl.len()` instead.\n",
            "  pl.count().alias(\"count\")\n",
            "<ipython-input-22-b8458fde83da>:24: DeprecationWarning: `pl.count()` is deprecated. Please use `pl.len()` instead.\n",
            "  pl.count().alias(\"count\")\n",
            "<ipython-input-22-b8458fde83da>:14: DeprecationWarning: `pl.count()` is deprecated. Please use `pl.len()` instead.\n",
            "  pl.count().alias(\"count\")\n",
            "<ipython-input-22-b8458fde83da>:24: DeprecationWarning: `pl.count()` is deprecated. Please use `pl.len()` instead.\n",
            "  pl.count().alias(\"count\")\n"
          ]
        }
      ]
    },
    {
      "cell_type": "markdown",
      "source": [
        "## 結果の出力と可視化"
      ],
      "metadata": {
        "id": "8TOcM6Ekkll7"
      }
    },
    {
      "cell_type": "code",
      "source": [
        "print(\"商品データと部門データの処理:\")\n",
        "print(f\"  Pandas 処理時間 (10回試行): 平均 = {pandas_mean:.4f}秒, 標準偏差 = {pandas_std:.4f}秒\")\n",
        "print(f\"  Polars (Eager) 処理時間 (10回試行): 平均 = {polars_eager_mean:.4f}秒, 標準偏差 = {polars_eager_std:.4f}秒\")\n",
        "print(f\"  Polars (Lazy) 処理時間 (10回試行): 平均 = {polars_lazy_mean:.4f}秒, 標準偏差 = {polars_lazy_std:.4f}秒\")\n",
        "\n",
        "print(\"\\n顧客行動分析:\")\n",
        "print(f\"  Pandas 平均注文数: {avg_num_orders_pandas:.2f}, 平均注文間隔: {avg_time_between_orders_pandas:.2f}日\")\n",
        "print(f\"  Polars (Eager) 平均注文数: {avg_num_orders_polars_eager:.2f}, 平均注文間隔: {avg_time_between_orders_polars_eager:.2f}日\")\n",
        "print(f\"  Polars (Lazy) 平均注文数: {avg_num_orders_polars_lazy:.2f}, 平均注文間隔: {avg_time_between_orders_polars_lazy:.2f}日\")\n",
        "print(f\"  Pandas 処理時間 (10回試行): 平均 = {pandas_customer_mean:.4f}秒, 標準偏差 = {pandas_customer_std:.4f}秒\")\n",
        "print(f\"  Polars (Eager) 処理時間 (10回試行): 平均 = {polars_eager_customer_mean:.4f}秒, 標準偏差 = {polars_eager_customer_std:.4f}秒\")\n",
        "print(f\"  Polars (Lazy) 処理時間 (10回試行): 平均 = {polars_lazy_customer_mean:.4f}秒, 標準偏差 = {polars_lazy_customer_std:.4f}秒\")"
      ],
      "metadata": {
        "colab": {
          "base_uri": "https://localhost:8080/"
        },
        "id": "fP1c6vW4fTNG",
        "outputId": "d7cf8728-b234-46de-9222-259974b4dc14"
      },
      "execution_count": null,
      "outputs": [
        {
          "output_type": "stream",
          "name": "stdout",
          "text": [
            "商品データと部門データの処理:\n",
            "  Pandas 処理時間 (10回試行): 平均 = 0.0935秒, 標準偏差 = 0.0409秒\n",
            "  Polars (Eager) 処理時間 (10回試行): 平均 = 0.0177秒, 標準偏差 = 0.0102秒\n",
            "  Polars (Lazy) 処理時間 (10回試行): 平均 = 0.0064秒, 標準偏差 = 0.0017秒\n",
            "\n",
            "顧客行動分析:\n",
            "  Pandas 平均注文数: 16.59, 平均注文間隔: 15.45日\n",
            "  Polars (Eager) 平均注文数: 16.59, 平均注文間隔: 15.45日\n",
            "  Polars (Lazy) 平均注文数: 16.59, 平均注文間隔: 15.45日\n",
            "  Pandas 処理時間 (10回試行): 平均 = 4.6697秒, 標準偏差 = 0.7969秒\n",
            "  Polars (Eager) 処理時間 (10回試行): 平均 = 3.1591秒, 標準偏差 = 0.7081秒\n",
            "  Polars (Lazy) 処理時間 (10回試行): 平均 = 2.6533秒, 標準偏差 = 0.6211秒\n"
          ]
        }
      ]
    },
    {
      "cell_type": "code",
      "source": [
        "print(\"\\nユーザーごとの平均注文間隔 (Pandas):\")\n",
        "print(user_avg_interval_df_pandas.sort_values('user_id').head())\n",
        "print(\"\\nユーザーごとの平均注文間隔 (Polars Eager):\")\n",
        "print(user_avg_interval_df_polars_eager.sort('user_id').head())\n",
        "print(\"\\nユーザーごとの平均注文間隔 (Polars Lazy):\")\n",
        "print(user_avg_interval_df_polars_lazy.sort('user_id').head())"
      ],
      "metadata": {
        "colab": {
          "base_uri": "https://localhost:8080/"
        },
        "id": "SNrjjbicfT2F",
        "outputId": "09769911-870b-4deb-877e-91c2bc1f8321"
      },
      "execution_count": null,
      "outputs": [
        {
          "output_type": "stream",
          "name": "stdout",
          "text": [
            "\n",
            "ユーザーごとの平均注文間隔 (Pandas):\n",
            "   user_id  avg_days_since_prior_order\n",
            "0        1                   19.000000\n",
            "1        2                   16.285714\n",
            "2        3                   12.000000\n",
            "3        4                   17.000000\n",
            "4        5                   11.500000\n",
            "\n",
            "ユーザーごとの平均注文間隔 (Polars Eager):\n",
            "shape: (5, 2)\n",
            "┌─────────┬────────────────────────┐\n",
            "│ user_id ┆ days_since_prior_order │\n",
            "│ ---     ┆ ---                    │\n",
            "│ i64     ┆ f64                    │\n",
            "╞═════════╪════════════════════════╡\n",
            "│ 1       ┆ 19.0                   │\n",
            "│ 2       ┆ 16.285714              │\n",
            "│ 3       ┆ 12.0                   │\n",
            "│ 4       ┆ 17.0                   │\n",
            "│ 5       ┆ 11.5                   │\n",
            "└─────────┴────────────────────────┘\n",
            "\n",
            "ユーザーごとの平均注文間隔 (Polars Lazy):\n",
            "shape: (5, 2)\n",
            "┌─────────┬────────────────────────┐\n",
            "│ user_id ┆ days_since_prior_order │\n",
            "│ ---     ┆ ---                    │\n",
            "│ i64     ┆ f64                    │\n",
            "╞═════════╪════════════════════════╡\n",
            "│ 1       ┆ 19.0                   │\n",
            "│ 2       ┆ 16.285714              │\n",
            "│ 3       ┆ 12.0                   │\n",
            "│ 4       ┆ 17.0                   │\n",
            "│ 5       ┆ 11.5                   │\n",
            "└─────────┴────────────────────────┘\n"
          ]
        }
      ]
    },
    {
      "cell_type": "code",
      "source": [
        "labels = ['Polars (Eager)', 'Polars (Lazy)', 'Pandas']\n",
        "means = [polars_eager_mean, polars_lazy_mean, pandas_mean]\n",
        "stds = [polars_eager_std, polars_lazy_std, pandas_std]\n",
        "\n",
        "x = np.arange(len(labels))\n",
        "width = 0.25\n",
        "\n",
        "fig, ax = plt.subplots(figsize=(10, 6))\n",
        "rects1 = ax.bar(x - width/3, means, width, yerr=stds, capsize=5, label='Mean ± SD', color=['skyblue', 'lightgreen', 'salmon'])\n",
        "\n",
        "ax.set_ylabel('処理時間 (秒)')\n",
        "ax.set_title('商品データと部門データの処理時間比較 (10回試行の平均と標準偏差)')\n",
        "ax.set_xticks(x)\n",
        "ax.set_xticklabels(labels)\n",
        "ax.legend()\n",
        "\n",
        "def autolabel(rects):\n",
        "    for rect in rects:\n",
        "        height = rect.get_height()\n",
        "        ax.annotate(f'{height:.4f}',\n",
        "                    xy=(rect.get_x() + rect.get_width() / 2, height),\n",
        "                    xytext=(0, 3),\n",
        "                    textcoords=\"offset points\",\n",
        "                    ha='center', va='bottom')\n",
        "\n",
        "autolabel(rects1)\n",
        "\n",
        "fig.tight_layout()\n",
        "plt.show()\n"
      ],
      "metadata": {
        "colab": {
          "base_uri": "https://localhost:8080/",
          "height": 607
        },
        "id": "yzlc8P6qfY0P",
        "outputId": "aa34d2b5-6524-4441-8cdf-99c381820510"
      },
      "execution_count": null,
      "outputs": [
        {
          "output_type": "display_data",
          "data": {
            "text/plain": [
              "<Figure size 1000x600 with 1 Axes>"
            ],
            "image/png": "[encoded data removed]"
          },
          "metadata": {}
        }
      ]
    },
    {
      "cell_type": "code",
      "source": [
        "labels = ['Polars (Eager)', 'Polars (Lazy)', 'Pandas']\n",
        "means = [polars_eager_customer_mean, polars_lazy_customer_mean, pandas_customer_mean]\n",
        "stds = [polars_eager_customer_std, polars_lazy_customer_std, pandas_customer_std]\n",
        "\n",
        "x = np.arange(len(labels))\n",
        "width = 0.25\n",
        "\n",
        "fig, ax = plt.subplots(figsize=(10, 6))\n",
        "rects1 = ax.bar(x - width/3, means, width, yerr=stds, capsize=5, label='Mean ± SD', color=['skyblue', 'lightgreen', 'salmon'])\n",
        "\n",
        "ax.set_ylabel('処理時間 (秒)')\n",
        "ax.set_title('顧客行動分析の処理時間比較 (10回試行の平均と標準偏差)')\n",
        "ax.set_xticks(x)\n",
        "ax.set_xticklabels(labels)\n",
        "ax.legend()\n",
        "\n",
        "autolabel(rects1)\n",
        "\n",
        "fig.tight_layout()\n",
        "plt.show()"
      ],
      "metadata": {
        "colab": {
          "base_uri": "https://localhost:8080/"
        },
        "id": "w9R-snFhiJRm",
        "outputId": "29c420f0-3d43-40fd-efb6-c85c39bee4f3"
      },
      "execution_count": null,
      "outputs": [
        {
          "output_type": "display_data",
          "data": {
            "text/plain": [
              "<Figure size 1000x600 with 1 Axes>"
            ],
            "image/png": "[encoded data removed]"
          },
          "metadata": {}
        }
      ]
    }
  ]
}